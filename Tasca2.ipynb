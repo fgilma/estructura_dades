{
 "cells": [
  {
   "cell_type": "markdown",
   "metadata": {},
   "source": [
    "# Nivell 1\n",
    "#### Exercici 1\n",
    "Crea una llista que agrupi els mesos de l’any en trimestres (1T: Gener, Febrer i Març, 2T: Abril, Maig, Juny...), és a dir, una llista amb 4 llistes dins."
   ]
  },
  {
   "cell_type": "code",
   "execution_count": 7,
   "metadata": {},
   "outputs": [
    {
     "data": {
      "text/plain": [
       "[['Gener', 'Febrer', 'Març'],\n",
       " ['Abril', 'Maig', 'Juny'],\n",
       " ['Juliol', 'Agost', 'Setembre'],\n",
       " ['Octubre', 'Novembre', 'Decembre']]"
      ]
     },
     "execution_count": 7,
     "metadata": {},
     "output_type": "execute_result"
    }
   ],
   "source": [
    "T1=['Gener','Febrer','Març']\n",
    "T2=['Abril','Maig','Juny']\n",
    "T3=['Juliol','Agost','Setembre']\n",
    "T4=['Octubre','Novembre','Decembre']\n",
    "mesos=[T1,T2,T3,T4]\n",
    "mesos"
   ]
  },
  {
   "cell_type": "markdown",
   "metadata": {},
   "source": [
    "#### Exercici 2\n",
    "Crea un codi que et permeti accedir a:\n",
    "\n",
    "- El segon mes del primer trimestre\n",
    "- Els mesos del primer trimestre\n",
    "- Setembre i octubre"
   ]
  },
  {
   "cell_type": "code",
   "execution_count": 8,
   "metadata": {},
   "outputs": [
    {
     "name": "stdout",
     "output_type": "stream",
     "text": [
      "Febrer\n",
      "Gener,Febrer,Març\n",
      "Setembre,Octubre\n"
     ]
    }
   ],
   "source": [
    "print(mesos[0][1])\n",
    "print(*mesos[0],sep=',')\n",
    "print(mesos[2][2],mesos[3][0],sep=',')"
   ]
  },
  {
   "cell_type": "markdown",
   "metadata": {},
   "source": [
    "#### Exercici 3\n",
    "Crea una llista amb nombres desordenats i respon a les següents preguntes:\n",
    "- Quants números hi ha?\n",
    "- Quantes vegades apareix el número 3\n",
    "- Quantes vegades apareixen els nombres 3 i 4?\n",
    "- Quin és el número més gran?\n",
    "- Quins són els 3 números més petits?\n",
    "- Quin és el rang d’aquesta llista?"
   ]
  },
  {
   "cell_type": "code",
   "execution_count": 9,
   "metadata": {},
   "outputs": [
    {
     "name": "stdout",
     "output_type": "stream",
     "text": [
      "Hi han 11 nombres a la llista\n",
      "El 3 surt 3 vegades i el 4 surt 1\n",
      "El número més gran és el 9\n",
      "Els números menors que 3 de la llista són: 1 2\n",
      "El rang de la llista és (1,9)\n"
     ]
    }
   ],
   "source": [
    "lista=[5,4,3,2,1,6,3,9,8,3,2]\n",
    "print('Hi han {0} nombres a la llista'.format(len(lista)))\n",
    "print('El 3 surt ' + str(lista.count(3)) + ' vegades i el 4 surt ' + str(lista.count(4)))\n",
    "print('El número més gran és el', max(lista))\n",
    "print('Els números menors que 3 de la llista són:', *set([a for a in lista if a<3]))\n",
    "print('El rang de la llista és (%s,%s)' %(min(lista),max(lista)))"
   ]
  },
  {
   "cell_type": "markdown",
   "metadata": {},
   "source": [
    "#### Ejercicio 4\n",
    "Crea un diccionari de la següent forma i respon a les preguntes:\n",
    "\n",
    "compra = { \"Pomes\" : {\"Qty\": 5, \"€\": 0.42}, \"Peres\" : {\"Qty\": 3, \"€\": 0.66} }\n",
    "\n",
    "- Afegeix alguna fruita més\n",
    "- Quant han costat les peres en total?\n",
    "- Quantes fruites hem comprat en total?\n",
    "- Quina és la fruita més cara?"
   ]
  },
  {
   "cell_type": "code",
   "execution_count": 10,
   "metadata": {},
   "outputs": [
    {
     "data": {
      "text/plain": [
       "{'Pomes': {'Qty': 5, '€': 0.42},\n",
       " 'Peres': {'Qty': 3, '€': 0.66},\n",
       " 'Maduixes': {'Qty': 7, '€': 0.35},\n",
       " 'Taronges': {'Qty': 8, '€': 0.55}}"
      ]
     },
     "execution_count": 10,
     "metadata": {},
     "output_type": "execute_result"
    }
   ],
   "source": [
    "#Afegim maduixes i taronges\n",
    "compra={'Pomes':{'Qty':5,'€':0.42},'Peres':{'Qty':3,'€':0.66}}\n",
    "compra['Maduixes']={'Qty':7,'€':0.35}\n",
    "compra['Taronges']={'Qty':8,'€':0.55}\n",
    "compra"
   ]
  },
  {
   "cell_type": "code",
   "execution_count": 11,
   "metadata": {},
   "outputs": [
    {
     "name": "stdout",
     "output_type": "stream",
     "text": [
      "Les peres tenen un preu total de 1.98 €\n"
     ]
    }
   ],
   "source": [
    "print('Les peres tenen un preu total de %.2f €' %(compra['Peres']['Qty']*compra['Peres']['€']))"
   ]
  },
  {
   "cell_type": "code",
   "execution_count": 12,
   "metadata": {},
   "outputs": [
    {
     "name": "stdout",
     "output_type": "stream",
     "text": [
      "El total de fruites comprades és 23\n"
     ]
    }
   ],
   "source": [
    "print('El total de fruites comprades és', sum([b['Qty'] for a,b in compra.items()]))"
   ]
  },
  {
   "cell_type": "code",
   "execution_count": 13,
   "metadata": {},
   "outputs": [
    {
     "name": "stdout",
     "output_type": "stream",
     "text": [
      "La fruita més cara són les peres\n"
     ]
    }
   ],
   "source": [
    "valorMax=max([b['€'] for a,b in compra.items()])\n",
    "print('La fruita més cara són les',(*[a.lower() for a,b in compra.items() if b['€']==valorMax]))"
   ]
  },
  {
   "cell_type": "code",
   "execution_count": null,
   "metadata": {},
   "outputs": [],
   "source": []
  }
 ],
 "metadata": {
  "kernelspec": {
   "display_name": "Python 3",
   "language": "python",
   "name": "python3"
  },
  "language_info": {
   "codemirror_mode": {
    "name": "ipython",
    "version": 3
   },
   "file_extension": ".py",
   "mimetype": "text/x-python",
   "name": "python",
   "nbconvert_exporter": "python",
   "pygments_lexer": "ipython3",
   "version": "3.7.4"
  }
 },
 "nbformat": 4,
 "nbformat_minor": 2
}
